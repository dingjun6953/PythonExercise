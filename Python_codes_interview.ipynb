{
  "nbformat": 4,
  "nbformat_minor": 0,
  "metadata": {
    "colab": {
      "provenance": []
    },
    "kernelspec": {
      "name": "python3",
      "display_name": "Python 3"
    },
    "language_info": {
      "name": "python"
    }
  },
  "cells": [
    {
      "cell_type": "markdown",
      "source": [
        "\tWrite a program in any programming language to do the following:\n",
        "a.\tReplace all the vowels in the string “National Center for Supercomputing Applications” by their corresponding order number in alphabetical sequence (a with 1, e with 5, etc).\n",
        "b.\tPrint the resulting string.\n",
        "c.\tPrint the total number of consonants in the given string.\n"
      ],
      "metadata": {
        "id": "kjxtjEuAi6WL"
      }
    },
    {
      "cell_type": "code",
      "source": [
        "import string\n",
        "# To convert an integer into a string \n",
        "def int_to_string(i):\n",
        "    string = ''\n",
        "    while True:\n",
        "        i, remainder = divmod(i, 10)\n",
        "        string = chr(ord('0') + remainder) + string\n",
        "        if i == 0:\n",
        "            break\n",
        "    return string\n",
        "\n",
        "def replace_vowels(sentence):\n",
        "    # Generate the alphabet \n",
        "    alphabet=list(string.ascii_lowercase)\n",
        "      \n",
        "    # Creating a set of vowels\n",
        "    vowel = set(\"aeiouAEIOU\")\n",
        "    vowel_dict={}\n",
        "    for character in vowel:\n",
        "      index=1+alphabet.index(character.lower() if character.isupper() else character)\n",
        "      vowel_dict[character]=index\n",
        "         \n",
        "    # Loop to traverse the character in the given string\n",
        "    new_str=\"\"\n",
        "    for char in sentence:\n",
        "      if char in vowel:\n",
        "       new_str= new_str + int_to_string(vowel_dict[char])\n",
        "      else: \n",
        "        new_str = new_str + char\n",
        "              \n",
        "    return new_str\n",
        "  \n",
        "    \n",
        "def consonants_count(string):\n",
        "      \n",
        "    # Initializing count variable to 0\n",
        "    count = 0\n",
        "      \n",
        "    # Creating a set of vowels\n",
        "    vowel = set(\"aeiouAEIOU\")\n",
        "      \n",
        "    # Loop to traverse the character in the given string\n",
        "    for character in string:      \n",
        "        # If character is not present in set vowel\n",
        "        if character not in vowel :\n",
        "          if character !=' ':\n",
        "            count = count + 1\n",
        "      \n",
        "    return count\n",
        "   \n",
        "\n",
        "string1 = \"National Center for Supercomputing Applications\"\n",
        "# Function Calls\n",
        "resulting_string=replace_vowels(string1)\n",
        "consonants_number=consonants_count(string1)\n",
        "#print results\n",
        "print(\"The resulting string is given below: \")\n",
        "print(resulting_string)  \n",
        "print(\"No. of consonants :\", consonants_number)"
      ],
      "metadata": {
        "colab": {
          "base_uri": "https://localhost:8080/"
        },
        "id": "NTWCZgJSi9lF",
        "outputId": "971f5e35-cf93-4f3c-cb35-8c5b3d62755c"
      },
      "execution_count": 12,
      "outputs": [
        {
          "output_type": "stream",
          "name": "stdout",
          "text": [
            "The resulting string is given below: \n",
            "N1t915n1l C5nt5r f15r S21p5rc15mp21t9ng 1ppl9c1t915ns\n",
            "No. of consonants : 26\n"
          ]
        }
      ]
    }
  ]
}
